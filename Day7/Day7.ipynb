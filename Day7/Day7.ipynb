{
  "nbformat": 4,
  "nbformat_minor": 0,
  "metadata": {
    "colab": {
      "name": "Day7.ipynb",
      "provenance": [],
      "authorship_tag": "ABX9TyPVjPKPouP+0abkvic4xUdP",
      "include_colab_link": true
    },
    "kernelspec": {
      "name": "python3",
      "display_name": "Python 3"
    }
  },
  "cells": [
    {
      "cell_type": "markdown",
      "metadata": {
        "id": "view-in-github",
        "colab_type": "text"
      },
      "source": [
        "<a href=\"https://colab.research.google.com/github/SaurabhWhadgar/LetsUpgrade/blob/master/Day7/Day7.ipynb\" target=\"_parent\"><img src=\"https://colab.research.google.com/assets/colab-badge.svg\" alt=\"Open In Colab\"/></a>"
      ]
    },
    {
      "cell_type": "markdown",
      "metadata": {
        "id": "hTYkH4Wk2BZk",
        "colab_type": "text"
      },
      "source": [
        "#Question\n",
        "Based on data provide I think that company has to look for Age, Salary, Marital staus of each employee. Work enviroment and distance, area is travlling from also need to be considered"
      ]
    },
    {
      "cell_type": "code",
      "metadata": {
        "id": "t_tHpz-M28mc",
        "colab_type": "code",
        "colab": {}
      },
      "source": [
        ""
      ],
      "execution_count": null,
      "outputs": []
    }
  ]
}