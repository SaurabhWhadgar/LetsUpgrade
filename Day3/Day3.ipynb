{
  "nbformat": 4,
  "nbformat_minor": 0,
  "metadata": {
    "colab": {
      "name": "Day3.ipynb",
      "provenance": [],
      "collapsed_sections": [],
      "authorship_tag": "ABX9TyMa0dx6z5HcpGEgHFf48Egq",
      "include_colab_link": true
    },
    "kernelspec": {
      "name": "python3",
      "display_name": "Python 3"
    }
  },
  "cells": [
    {
      "cell_type": "markdown",
      "metadata": {
        "id": "view-in-github",
        "colab_type": "text"
      },
      "source": [
        "<a href=\"https://colab.research.google.com/github/SaurabhWhadgar/LetsUpgrade/blob/master/Day3/Day3.ipynb\" target=\"_parent\"><img src=\"https://colab.research.google.com/assets/colab-badge.svg\" alt=\"Open In Colab\"/></a>"
      ]
    },
    {
      "cell_type": "markdown",
      "metadata": {
        "id": "gaF72A8MWCDS",
        "colab_type": "text"
      },
      "source": [
        "# Question 1\n",
        "## Substract two complex number"
      ]
    },
    {
      "cell_type": "code",
      "metadata": {
        "id": "meSOsMz1UL-n",
        "colab_type": "code",
        "colab": {
          "base_uri": "https://localhost:8080/",
          "height": 54
        },
        "outputId": "79bdbb39-ce1b-4284-c02d-698770bbce46"
      },
      "source": [
        "a = 3\n",
        "b = 2\n",
        "a = complex(a)\n",
        "b = complex(b)\n",
        "c = a - b\n",
        "print(c)\n",
        "print(type(c))"
      ],
      "execution_count": null,
      "outputs": [
        {
          "output_type": "stream",
          "text": [
            "(1+0j)\n",
            "<class 'complex'>\n"
          ],
          "name": "stdout"
        }
      ]
    },
    {
      "cell_type": "markdown",
      "metadata": {
        "id": "RqLgBjj4V59c",
        "colab_type": "text"
      },
      "source": [
        "# Question 2\n",
        "## Find the 4th root of number"
      ]
    },
    {
      "cell_type": "code",
      "metadata": {
        "id": "t8Tu1uv1Ue94",
        "colab_type": "code",
        "colab": {
          "base_uri": "https://localhost:8080/",
          "height": 35
        },
        "outputId": "f5ca4d71-56b6-48d8-baac-733af517d311"
      },
      "source": [
        "n = 6\n",
        "root = 4\n",
        "print(n**(1/float(root)))"
      ],
      "execution_count": null,
      "outputs": [
        {
          "output_type": "stream",
          "text": [
            "1.5650845800732873\n"
          ],
          "name": "stdout"
        }
      ]
    },
    {
      "cell_type": "markdown",
      "metadata": {
        "id": "yvkoIWqpWOhY",
        "colab_type": "text"
      },
      "source": [
        "# Question 3\n",
        "## Swap two number with temp"
      ]
    },
    {
      "cell_type": "code",
      "metadata": {
        "id": "h4NoJ3-KWcmx",
        "colab_type": "code",
        "colab": {
          "base_uri": "https://localhost:8080/",
          "height": 35
        },
        "outputId": "42546ffa-f8d1-47d3-8d2f-be386b418118"
      },
      "source": [
        "a = 10\n",
        "b = 50\n",
        "temp = 0\n",
        "\n",
        "temp = a\n",
        "a = b\n",
        "b = temp\n",
        "print(\"a = %s and b = %s\" % (a,b))"
      ],
      "execution_count": null,
      "outputs": [
        {
          "output_type": "stream",
          "text": [
            "a = 50 and b = 10\n"
          ],
          "name": "stdout"
        }
      ]
    },
    {
      "cell_type": "markdown",
      "metadata": {
        "id": "9UvHsc5gYa29",
        "colab_type": "text"
      },
      "source": [
        "# Question 4\n",
        "## Swap two number without temp"
      ]
    },
    {
      "cell_type": "code",
      "metadata": {
        "id": "R8k84wljYgBR",
        "colab_type": "code",
        "colab": {
          "base_uri": "https://localhost:8080/",
          "height": 35
        },
        "outputId": "5f5e5558-1546-4fb8-9079-9a63a1ab2b6f"
      },
      "source": [
        "a = 5\n",
        "b = 7\n",
        "\n",
        "a = a + b \n",
        "b = a - b \n",
        "a = a - b\n",
        "print(\"a = %s and b=%s\" % (a,b))"
      ],
      "execution_count": null,
      "outputs": [
        {
          "output_type": "stream",
          "text": [
            "a = 7 and b=5\n"
          ],
          "name": "stdout"
        }
      ]
    },
    {
      "cell_type": "markdown",
      "metadata": {
        "id": "Sul5Z42ac7Z9",
        "colab_type": "text"
      },
      "source": [
        "# Question 5\n",
        "## Convert fahrenheit to celsius and kelvin"
      ]
    },
    {
      "cell_type": "code",
      "metadata": {
        "id": "BztqgMW0aABK",
        "colab_type": "code",
        "colab": {
          "base_uri": "https://localhost:8080/",
          "height": 72
        },
        "outputId": "e12fad00-2cec-4138-ffc5-779fecf7ff5f"
      },
      "source": [
        "fer = int(input(\"Enter temprature\"))\n",
        "cel = 32\n",
        "\n",
        "temp = (fer - cel)*5/9\n",
        "print(\"Temprature in Celsius\",temp)\n",
        "\n",
        "temp = (fer - cel)*5/9 + 273.15\n",
        "print(\"Temprature in kelvin : \",temp)"
      ],
      "execution_count": null,
      "outputs": [
        {
          "output_type": "stream",
          "text": [
            "Enter temprature100\n",
            "Temprature in Celsius 37.77777777777778\n",
            "Temprature in kelvin :  310.92777777777775\n"
          ],
          "name": "stdout"
        }
      ]
    },
    {
      "cell_type": "markdown",
      "metadata": {
        "id": "IT-ALR5rcxx8",
        "colab_type": "text"
      },
      "source": [
        "# Question 6\n",
        "## Types of datatype in python\n"
      ]
    },
    {
      "cell_type": "code",
      "metadata": {
        "id": "bSNmmuG2c0T8",
        "colab_type": "code",
        "colab": {
          "base_uri": "https://localhost:8080/",
          "height": 164
        },
        "outputId": "9ad1425f-e3f0-45e2-eb9d-bcc0ddbd85a2"
      },
      "source": [
        "print(type(3))\n",
        "print(type(3.2))\n",
        "print(type(\"Three\"))\n",
        "print(type(1+6j))\n",
        "print(type(True))\n",
        "print(type({'a':'b','c':1}))\n",
        "print(type((1,'a',3)))\n",
        "print(type([2,3,4,'a']))"
      ],
      "execution_count": null,
      "outputs": [
        {
          "output_type": "stream",
          "text": [
            "<class 'int'>\n",
            "<class 'float'>\n",
            "<class 'str'>\n",
            "<class 'complex'>\n",
            "<class 'bool'>\n",
            "<class 'dict'>\n",
            "<class 'tuple'>\n",
            "<class 'list'>\n"
          ],
          "name": "stdout"
        }
      ]
    },
    {
      "cell_type": "markdown",
      "metadata": {
        "id": "OsmOWt8see2y",
        "colab_type": "text"
      },
      "source": [
        "# Steps to create github profile\n"
      ]
    }
  ]
}