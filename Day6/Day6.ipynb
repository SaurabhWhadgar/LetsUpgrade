{
  "nbformat": 4,
  "nbformat_minor": 0,
  "metadata": {
    "colab": {
      "name": "Day6.ipynb",
      "provenance": [],
      "collapsed_sections": [],
      "authorship_tag": "ABX9TyOWcI/ia3gl+frmnBduMFa5",
      "include_colab_link": true
    },
    "kernelspec": {
      "name": "python3",
      "display_name": "Python 3"
    }
  },
  "cells": [
    {
      "cell_type": "markdown",
      "metadata": {
        "id": "view-in-github",
        "colab_type": "text"
      },
      "source": [
        "<a href=\"https://colab.research.google.com/github/SaurabhWhadgar/LetsUpgrade/blob/master/Day6/Day6.ipynb\" target=\"_parent\"><img src=\"https://colab.research.google.com/assets/colab-badge.svg\" alt=\"Open In Colab\"/></a>"
      ]
    },
    {
      "cell_type": "markdown",
      "metadata": {
        "id": "rB4Hav-R0YVs",
        "colab_type": "text"
      },
      "source": [
        "# Question 1\n",
        " Assuming that we have some email addresses in the username@companyname.com format, please write program to print the company name of a given email address. Both user names and company names are composed of letters only."
      ]
    },
    {
      "cell_type": "code",
      "metadata": {
        "id": "WqO88f3YbtYX",
        "colab_type": "code",
        "colab": {
          "base_uri": "https://localhost:8080/",
          "height": 35
        },
        "outputId": "dccc3127-c762-47f1-c492-a6127bfafa7d"
      },
      "source": [
        "mystring = 'letsupgrade@google.com'\n",
        "count = 0\n",
        "num1 = 0\n",
        "num2 = 0\n",
        "for i in mystring:\n",
        "  count = count+1\n",
        "  if i == '@':\n",
        "    num1 = count\n",
        "  if i == '.':\n",
        "    num2 = count\n",
        "\n",
        "print(mystring[num1:num2-1])\n",
        "\n"
      ],
      "execution_count": null,
      "outputs": [
        {
          "output_type": "stream",
          "text": [
            "google\n"
          ],
          "name": "stdout"
        }
      ]
    },
    {
      "cell_type": "markdown",
      "metadata": {
        "id": "SpIUuqbB00Ee",
        "colab_type": "text"
      },
      "source": [
        "# Question 2\n",
        "Write a program that accepts a comma-separated sequence of words as input and prints the words in a comma\n",
        "separated sequence after sorting them alphabetically."
      ]
    },
    {
      "cell_type": "code",
      "metadata": {
        "id": "eWHXZwseb_Rm",
        "colab_type": "code",
        "colab": {
          "base_uri": "https://localhost:8080/",
          "height": 54
        },
        "outputId": "f9de2e57-c08f-4ca7-af5a-6a6406f65d85"
      },
      "source": [
        "userinput = input(\"Enter strings seperated by : \")\n",
        "userstrings = userinput.split(\",\")\n",
        "userstrings.sort()\n",
        "print(userstrings)"
      ],
      "execution_count": null,
      "outputs": [
        {
          "output_type": "stream",
          "text": [
            "Enter strings seperated by ,tune,mere,abc,jana\n",
            "['abc', 'jana', 'mere', 'tune']\n"
          ],
          "name": "stdout"
        }
      ]
    },
    {
      "cell_type": "markdown",
      "metadata": {
        "id": "YNl4Z4N90_ni",
        "colab_type": "text"
      },
      "source": [
        "# Question 3\n",
        "On seprated ipnyb file"
      ]
    },
    {
      "cell_type": "markdown",
      "metadata": {
        "id": "udSpmj5M1Foq",
        "colab_type": "text"
      },
      "source": [
        "# Question 4\n",
        "Given a list of n-1 numbers ranging from 1 to n, your task is to find the missing number. There are no duplicates.\n",
        "Input Format:\n",
        "The first line contains n-1 numbers with each number separated by a space.\n",
        "Output Format:\n",
        "Print the missing number\n",
        "Example:\n",
        "Input:1 2 4 6 3 7 8\n",
        "Output:5"
      ]
    },
    {
      "cell_type": "code",
      "metadata": {
        "id": "AWIRjyyb1Lok",
        "colab_type": "code",
        "colab": {}
      },
      "source": [
        "mystring = input(\"Enter number seperated by space\")\n",
        "myset = mystring.replace(\" \",\"\")\n",
        "myset1 = list(myset)\n",
        "myset1 = [int(i) for i in myset1]\n",
        "num1 = int(myset[len(myset)-1])\n",
        "myset2  = set(range(int(myset[0]),int(num1+1)))\n",
        "print(myset2.difference(myset1))"
      ],
      "execution_count": null,
      "outputs": []
    },
    {
      "cell_type": "markdown",
      "metadata": {
        "id": "Z-bcg9LM1Kpf",
        "colab_type": "text"
      },
      "source": [
        "# Question 5\n",
        "With a given list L, write a program to print this list L after removing all duplicate values with original order reserved.\n",
        "Example:\n",
        "If the input list is\n",
        "12 24 35 24 88 120 155 88 120 155\n",
        "Then the output should be\n",
        "12 24 35 88 120 155"
      ]
    },
    {
      "cell_type": "code",
      "metadata": {
        "id": "5t-qrTbv1P7W",
        "colab_type": "code",
        "colab": {}
      },
      "source": [
        "mystring = input(\"Enter number\")\n",
        "myset = mystring.replace(\" \",\"\")\n",
        "myset1 = set(list(myset))\n",
        "arr2=list(set(myset1))\n",
        "print(sorted(arr2))"
      ],
      "execution_count": null,
      "outputs": []
    }
  ]
}