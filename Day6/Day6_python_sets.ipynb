{
  "nbformat": 4,
  "nbformat_minor": 0,
  "metadata": {
    "colab": {
      "name": "Da6_python_sets.ipynb",
      "provenance": [],
      "authorship_tag": "ABX9TyPnzSutUT0SlizFAYmSYlOz",
      "include_colab_link": true
    },
    "kernelspec": {
      "name": "python3",
      "display_name": "Python 3"
    }
  },
  "cells": [
    {
      "cell_type": "markdown",
      "metadata": {
        "id": "view-in-github",
        "colab_type": "text"
      },
      "source": [
        "<a href=\"https://colab.research.google.com/github/SaurabhWhadgar/LetsUpgrade/blob/master/Day6/Day6_python_sets.ipynb\" target=\"_parent\"><img src=\"https://colab.research.google.com/assets/colab-badge.svg\" alt=\"Open In Colab\"/></a>"
      ]
    },
    {
      "cell_type": "code",
      "metadata": {
        "id": "zUeBmDkJBgD0",
        "colab_type": "code",
        "colab": {}
      },
      "source": [
        "myset1 = {1,2,3,4,5}\n",
        "myset2 = {2,5,6,7,8}"
      ],
      "execution_count": 22,
      "outputs": []
    },
    {
      "cell_type": "code",
      "metadata": {
        "id": "ZbkMKf2G4fJR",
        "colab_type": "code",
        "colab": {}
      },
      "source": [
        "# add method --> Singel Item\n",
        "# update method --> Multiple items\n",
        "# len method -- Length of set\n",
        "# remove method --> remove single item\n",
        "# discard method --> discard item from set\n",
        "# pop \n",
        "# clear --> empty the set\n",
        "# del --> Delete entire set\n",
        "# union (union & update excludes duplicats)\n",
        "# intersection\n",
        "# difference\n",
        "# difference_update --> remove the items present in both\n",
        "# intersection_update --> remove the item not present in both\n",
        "# copy\n",
        "# isdisjoint --> two sets have intersection or not"
      ],
      "execution_count": 2,
      "outputs": []
    },
    {
      "cell_type": "code",
      "metadata": {
        "id": "OReKmZMn6MQ_",
        "colab_type": "code",
        "colab": {}
      },
      "source": [
        "myset1.update(myset2)\n"
      ],
      "execution_count": 6,
      "outputs": []
    },
    {
      "cell_type": "code",
      "metadata": {
        "id": "I2sr1-O66mS9",
        "colab_type": "code",
        "colab": {
          "base_uri": "https://localhost:8080/",
          "height": 173
        },
        "outputId": "0b4a26cd-1cdc-4471-b082-99802ebe9846"
      },
      "source": [
        "print(myset1)\n",
        "for x in myset1:\n",
        "  print(x)"
      ],
      "execution_count": 8,
      "outputs": [
        {
          "output_type": "stream",
          "text": [
            "{1, 2, 3, 4, 5, 6, 7, 8}\n",
            "1\n",
            "2\n",
            "3\n",
            "4\n",
            "5\n",
            "6\n",
            "7\n",
            "8\n"
          ],
          "name": "stdout"
        }
      ]
    },
    {
      "cell_type": "code",
      "metadata": {
        "id": "JmTsqhk765P7",
        "colab_type": "code",
        "colab": {
          "base_uri": "https://localhost:8080/",
          "height": 34
        },
        "outputId": "26e21dee-b6c2-4324-961e-4b3d91e97085"
      },
      "source": [
        "myset1.union(myset2)"
      ],
      "execution_count": 9,
      "outputs": [
        {
          "output_type": "execute_result",
          "data": {
            "text/plain": [
              "{1, 2, 3, 4, 5, 6, 7, 8}"
            ]
          },
          "metadata": {
            "tags": []
          },
          "execution_count": 9
        }
      ]
    },
    {
      "cell_type": "code",
      "metadata": {
        "id": "26TkM8R_7BGS",
        "colab_type": "code",
        "colab": {
          "base_uri": "https://localhost:8080/",
          "height": 34
        },
        "outputId": "91deaabd-3664-4824-a8dd-8bf3c31e02ce"
      },
      "source": [
        "myset1.union(myset2)"
      ],
      "execution_count": 13,
      "outputs": [
        {
          "output_type": "execute_result",
          "data": {
            "text/plain": [
              "{1, 2, 3, 4, 5, 6, 7, 8}"
            ]
          },
          "metadata": {
            "tags": []
          },
          "execution_count": 13
        }
      ]
    },
    {
      "cell_type": "code",
      "metadata": {
        "id": "KZKRTB0R7GP2",
        "colab_type": "code",
        "colab": {
          "base_uri": "https://localhost:8080/",
          "height": 34
        },
        "outputId": "6b36b864-1789-4d62-8e18-06f2bff6f093"
      },
      "source": [
        "myset1.intersection(myset2)"
      ],
      "execution_count": 16,
      "outputs": [
        {
          "output_type": "execute_result",
          "data": {
            "text/plain": [
              "{2, 5}"
            ]
          },
          "metadata": {
            "tags": []
          },
          "execution_count": 16
        }
      ]
    },
    {
      "cell_type": "code",
      "metadata": {
        "id": "Cs3h5tRj7QSZ",
        "colab_type": "code",
        "colab": {
          "base_uri": "https://localhost:8080/",
          "height": 34
        },
        "outputId": "6651ecc4-db60-4d39-94b5-a9197504d483"
      },
      "source": [
        "myset1.isdisjoint(myset2)"
      ],
      "execution_count": 18,
      "outputs": [
        {
          "output_type": "execute_result",
          "data": {
            "text/plain": [
              "False"
            ]
          },
          "metadata": {
            "tags": []
          },
          "execution_count": 18
        }
      ]
    },
    {
      "cell_type": "code",
      "metadata": {
        "id": "opmkeDWV7ZSk",
        "colab_type": "code",
        "colab": {
          "base_uri": "https://localhost:8080/",
          "height": 34
        },
        "outputId": "44455194-6d30-4787-8005-23b5934a3149"
      },
      "source": [
        "myset1.difference(myset2)"
      ],
      "execution_count": 19,
      "outputs": [
        {
          "output_type": "execute_result",
          "data": {
            "text/plain": [
              "{1, 3, 4}"
            ]
          },
          "metadata": {
            "tags": []
          },
          "execution_count": 19
        }
      ]
    },
    {
      "cell_type": "code",
      "metadata": {
        "id": "zqJExb4x7ghk",
        "colab_type": "code",
        "colab": {}
      },
      "source": [
        "myset1.difference_update(myset2)"
      ],
      "execution_count": 20,
      "outputs": []
    },
    {
      "cell_type": "code",
      "metadata": {
        "id": "pfAK3ylL7kgC",
        "colab_type": "code",
        "colab": {
          "base_uri": "https://localhost:8080/",
          "height": 34
        },
        "outputId": "e3b2a7b0-136e-40a7-f9c8-d4cf528860b5"
      },
      "source": [
        "print(myset1)"
      ],
      "execution_count": 21,
      "outputs": [
        {
          "output_type": "stream",
          "text": [
            "{1, 3, 4}\n"
          ],
          "name": "stdout"
        }
      ]
    },
    {
      "cell_type": "code",
      "metadata": {
        "id": "sfTkSgTU7mk3",
        "colab_type": "code",
        "colab": {
          "base_uri": "https://localhost:8080/",
          "height": 34
        },
        "outputId": "a225a832-139c-4720-9a49-03ccc8986aac"
      },
      "source": [
        "sorted(myset2)"
      ],
      "execution_count": 24,
      "outputs": [
        {
          "output_type": "execute_result",
          "data": {
            "text/plain": [
              "[2, 5, 6, 7, 8]"
            ]
          },
          "metadata": {
            "tags": []
          },
          "execution_count": 24
        }
      ]
    }
  ]
}