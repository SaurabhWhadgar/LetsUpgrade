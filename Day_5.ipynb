{
  "nbformat": 4,
  "nbformat_minor": 0,
  "metadata": {
    "colab": {
      "name": "Day 5.ipynb",
      "provenance": [],
      "collapsed_sections": [],
      "authorship_tag": "ABX9TyOfoUeKNsLrp2MHm4padjhT",
      "include_colab_link": true
    },
    "kernelspec": {
      "name": "python3",
      "display_name": "Python 3"
    }
  },
  "cells": [
    {
      "cell_type": "markdown",
      "metadata": {
        "id": "view-in-github",
        "colab_type": "text"
      },
      "source": [
        "<a href=\"https://colab.research.google.com/github/SaurabhWhadgar/LetsUpgrade/blob/master/Day_5.ipynb\" target=\"_parent\"><img src=\"https://colab.research.google.com/assets/colab-badge.svg\" alt=\"Open In Colab\"/></a>"
      ]
    },
    {
      "cell_type": "markdown",
      "metadata": {
        "id": "RdhppbqsP1dh",
        "colab_type": "text"
      },
      "source": [
        "# Question 1\n",
        "Write a Python program to find the first 20 non-even prime natural numbers\n"
      ]
    },
    {
      "cell_type": "code",
      "metadata": {
        "id": "9sRTyeNuP7tG",
        "colab_type": "code",
        "colab": {
          "base_uri": "https://localhost:8080/",
          "height": 410
        },
        "outputId": "8563d547-b30c-4362-bda2-940598645735"
      },
      "source": [
        "numlist = range(100)\n",
        "count = 0\n",
        "for number in numlist:\n",
        "  if number%2!=0:\n",
        "    c = range(2,number)\n",
        "    for div in c:\n",
        "      #print(div)\n",
        "      if number % div != 0:\n",
        "        print(number, \"is non-even and prime number also\")\n",
        "        count = count+1\n",
        "        break\n",
        "  if count > 20:\n",
        "    break"
      ],
      "execution_count": 19,
      "outputs": [
        {
          "output_type": "stream",
          "text": [
            "3 is non-even and prime number also\n",
            "5 is non-even and prime number also\n",
            "7 is non-even and prime number also\n",
            "9 is non-even and prime number also\n",
            "11 is non-even and prime number also\n",
            "13 is non-even and prime number also\n",
            "15 is non-even and prime number also\n",
            "17 is non-even and prime number also\n",
            "19 is non-even and prime number also\n",
            "21 is non-even and prime number also\n",
            "23 is non-even and prime number also\n",
            "25 is non-even and prime number also\n",
            "27 is non-even and prime number also\n",
            "29 is non-even and prime number also\n",
            "31 is non-even and prime number also\n",
            "33 is non-even and prime number also\n",
            "35 is non-even and prime number also\n",
            "37 is non-even and prime number also\n",
            "39 is non-even and prime number also\n",
            "41 is non-even and prime number also\n",
            "43 is non-even and prime number also\n"
          ],
          "name": "stdout"
        }
      ]
    },
    {
      "cell_type": "markdown",
      "metadata": {
        "id": "-2LtSFV4XXBt",
        "colab_type": "text"
      },
      "source": [
        "# Question 2\n",
        "Write a Python program to implement 15 functions of string."
      ]
    },
    {
      "cell_type": "code",
      "metadata": {
        "id": "wWsLX28XQiKJ",
        "colab_type": "code",
        "colab": {
          "base_uri": "https://localhost:8080/",
          "height": 298
        },
        "outputId": "f5d57633-8c03-4453-dc78-a5f5acc5959d"
      },
      "source": [
        "string1 = \"saurabh\"\n",
        "string2 = \"LetsUpgrade\"\n",
        "\n",
        "print(string1.capitalize())\n",
        "print(string2.lower())\n",
        "print(string2.count(\"L\"))\n",
        "print(string1.upper())\n",
        "print(string2.find(\"Up\"))\n",
        "print(string1.endswith(\"h\"))\n",
        "print(string2.startswith(\"L\"))\n",
        "print(string2.split(\"Up\"))\n",
        "print(string1.lstrip())\n",
        "print(string2.strip())\n",
        "print(string2.replace(\"p\",\"P\"))\n",
        "print(\"-\".join(string2))\n",
        "s=['a','b']\n",
        "print(\"+\".join(s))\n",
        "print(list(string1))\n",
        "print(sorted(string1))"
      ],
      "execution_count": 55,
      "outputs": [
        {
          "output_type": "stream",
          "text": [
            "Saurabh\n",
            "letsupgrade\n",
            "1\n",
            "SAURABH\n",
            "4\n",
            "True\n",
            "True\n",
            "['Lets', 'grade']\n",
            "saurabh\n",
            "LetsUpgrade\n",
            "LetsUPgrade\n",
            "L-e-t-s-U-p-g-r-a-d-e\n",
            "a+b\n",
            "['s', 'a', 'u', 'r', 'a', 'b', 'h']\n",
            "['a', 'a', 'b', 'h', 'r', 's', 'u']\n"
          ],
          "name": "stdout"
        }
      ]
    },
    {
      "cell_type": "code",
      "metadata": {
        "id": "IJbRJWunTjBP",
        "colab_type": "code",
        "colab": {}
      },
      "source": [
        ""
      ],
      "execution_count": 38,
      "outputs": []
    },
    {
      "cell_type": "markdown",
      "metadata": {
        "id": "RZcTL_ueXi3p",
        "colab_type": "text"
      },
      "source": [
        "# Question 3\n",
        "Write a Python program to check if the given string is a Palindrome or Anagram or None of them.Display the message accordingly to the use"
      ]
    },
    {
      "cell_type": "code",
      "metadata": {
        "id": "cvWHypcYXia-",
        "colab_type": "code",
        "colab": {
          "base_uri": "https://localhost:8080/",
          "height": 54
        },
        "outputId": "aa4db0a7-c260-4584-f0b9-2439c2f288d0"
      },
      "source": [
        "string1 = \"darad\"\n",
        "string2 = \"rdada\"\n",
        "string3 = \"darad\"\n",
        "string4 = string3[::-1]\n",
        "\n",
        "if len(string1) == len(string2):\n",
        "  s1 = sorted(string1)\n",
        "  s2 = sorted(string2)\n",
        "  if list(s1)==list(s2):\n",
        "    print(\"It's anagram\")\n",
        "  else:\n",
        "    print(\"It's not anagram\")\n",
        "  if string3 == string4:\n",
        "    print(\"String is palindrome\")\n",
        "else:\n",
        "  print(\"String length doesn't match\")\n",
        "\n",
        "\n",
        "\n"
      ],
      "execution_count": 73,
      "outputs": [
        {
          "output_type": "stream",
          "text": [
            "It's anagram\n",
            "String is palindrome\n"
          ],
          "name": "stdout"
        }
      ]
    },
    {
      "cell_type": "markdown",
      "metadata": {
        "id": "RxJxs_ocd_yD",
        "colab_type": "text"
      },
      "source": [
        "# Question 4\n",
        "Write a Python's user defined function that removes all the additional characters from the stringand converts it finally to lower case using built-in lower(). eg: If the string is \"Dr. Darshan Ingle@AI-ML Trainer\", then the output be \"drdarshaningleaimltrainer\"."
      ]
    },
    {
      "cell_type": "code",
      "metadata": {
        "id": "Eu2gN6GXVK6r",
        "colab_type": "code",
        "colab": {
          "base_uri": "https://localhost:8080/",
          "height": 36
        },
        "outputId": "7d5940ca-2dff-4268-bdde-434559432dc0"
      },
      "source": [
        "def remBadChar(string):\n",
        "  rem_chr = [';',':', '!', \"*\",\"@\",\",\",\".\",\"/\",\"?\",\"&\",\"#\",\"!\",\"~\",\")\",\"(\",\" \",\"-\"]\n",
        "  for char in rem_chr:\n",
        "    string = string.replace(char,\"\")\n",
        "    return(string1.lower())\n",
        "\n",
        "remBadChar(string)"
      ],
      "execution_count": 86,
      "outputs": [
        {
          "output_type": "execute_result",
          "data": {
            "application/vnd.google.colaboratory.intrinsic": {
              "type": "string"
            },
            "text/plain": [
              "'drdarshaningleaimltrainer'"
            ]
          },
          "metadata": {
            "tags": []
          },
          "execution_count": 86
        }
      ]
    },
    {
      "cell_type": "code",
      "metadata": {
        "id": "U97WZdo0djoO",
        "colab_type": "code",
        "colab": {}
      },
      "source": [
        ""
      ],
      "execution_count": null,
      "outputs": []
    }
  ]
}