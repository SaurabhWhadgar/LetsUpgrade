{
  "nbformat": 4,
  "nbformat_minor": 0,
  "metadata": {
    "colab": {
      "name": "Day 4.ipynb",
      "provenance": [],
      "collapsed_sections": [],
      "authorship_tag": "ABX9TyPgsy4cLVmliBs1SkMRe0Vm",
      "include_colab_link": true
    },
    "kernelspec": {
      "name": "python3",
      "display_name": "Python 3"
    }
  },
  "cells": [
    {
      "cell_type": "markdown",
      "metadata": {
        "id": "view-in-github",
        "colab_type": "text"
      },
      "source": [
        "<a href=\"https://colab.research.google.com/github/SaurabhWhadgar/LetsUpgrade/blob/master/Day4/Day_4.ipynb\" target=\"_parent\"><img src=\"https://colab.research.google.com/assets/colab-badge.svg\" alt=\"Open In Colab\"/></a>"
      ]
    },
    {
      "cell_type": "markdown",
      "metadata": {
        "id": "hGnBhAP5J42s",
        "colab_type": "text"
      },
      "source": [
        "# Question 1\n",
        "## Research on whether addition, subtraction, multiplication, division, floor division and modulooperations be performed on complex numbers. Based on your study, implement a Pythonprogram to demonstrate these operations"
      ]
    },
    {
      "cell_type": "code",
      "metadata": {
        "id": "NjrNme7WH5i5",
        "colab_type": "code",
        "colab": {}
      },
      "source": [
        "num1 = complex(2 +3j)\n",
        "num2 = 2+2j"
      ],
      "execution_count": null,
      "outputs": []
    },
    {
      "cell_type": "code",
      "metadata": {
        "id": "bdFsFA1WIJ4F",
        "colab_type": "code",
        "colab": {
          "base_uri": "https://localhost:8080/",
          "height": 54
        },
        "outputId": "36d73186-8360-4260-d686-ed00e2c6a2f5"
      },
      "source": [
        "print(type(num1))\n",
        "print(type(num2))"
      ],
      "execution_count": null,
      "outputs": [
        {
          "output_type": "stream",
          "text": [
            "<class 'complex'>\n",
            "<class 'complex'>\n"
          ],
          "name": "stdout"
        }
      ]
    },
    {
      "cell_type": "code",
      "metadata": {
        "id": "_4U-0v1KIz-M",
        "colab_type": "code",
        "colab": {
          "base_uri": "https://localhost:8080/",
          "height": 35
        },
        "outputId": "7b07fe22-49e5-4075-a18b-3f8e989ed100"
      },
      "source": [
        "print(num1.real,num1.imag)"
      ],
      "execution_count": null,
      "outputs": [
        {
          "output_type": "stream",
          "text": [
            "2.0 3.0\n"
          ],
          "name": "stdout"
        }
      ]
    },
    {
      "cell_type": "code",
      "metadata": {
        "id": "6gM0IoVII7Tw",
        "colab_type": "code",
        "colab": {
          "base_uri": "https://localhost:8080/",
          "height": 35
        },
        "outputId": "819a3e75-5beb-4bf9-c875-75eed76abd85"
      },
      "source": [
        "print(num1 + num2)"
      ],
      "execution_count": null,
      "outputs": [
        {
          "output_type": "stream",
          "text": [
            "(4+5j)\n"
          ],
          "name": "stdout"
        }
      ]
    },
    {
      "cell_type": "code",
      "metadata": {
        "id": "eEcIOGDfJMfV",
        "colab_type": "code",
        "colab": {
          "base_uri": "https://localhost:8080/",
          "height": 35
        },
        "outputId": "450fb5b5-c5f6-4c1e-c0f5-43847dab88d9"
      },
      "source": [
        "print(num1 - num2)"
      ],
      "execution_count": null,
      "outputs": [
        {
          "output_type": "stream",
          "text": [
            "1j\n"
          ],
          "name": "stdout"
        }
      ]
    },
    {
      "cell_type": "code",
      "metadata": {
        "id": "dkgtLzQdJOg2",
        "colab_type": "code",
        "colab": {
          "base_uri": "https://localhost:8080/",
          "height": 35
        },
        "outputId": "477a777f-0e31-45cf-fa0a-bb2fe299c92a"
      },
      "source": [
        "print(num1/num2)"
      ],
      "execution_count": null,
      "outputs": [
        {
          "output_type": "stream",
          "text": [
            "(1.25+0.25j)\n"
          ],
          "name": "stdout"
        }
      ]
    },
    {
      "cell_type": "code",
      "metadata": {
        "id": "hBxd31KdJQPA",
        "colab_type": "code",
        "colab": {
          "base_uri": "https://localhost:8080/",
          "height": 172
        },
        "outputId": "6a1c1cdf-9e6a-4f35-e472-d002800085d8"
      },
      "source": [
        "print(num1//num2)"
      ],
      "execution_count": null,
      "outputs": [
        {
          "output_type": "error",
          "ename": "TypeError",
          "evalue": "ignored",
          "traceback": [
            "\u001b[0;31m---------------------------------------------------------------------------\u001b[0m",
            "\u001b[0;31mTypeError\u001b[0m                                 Traceback (most recent call last)",
            "\u001b[0;32m<ipython-input-20-7bc281532df2>\u001b[0m in \u001b[0;36m<module>\u001b[0;34m()\u001b[0m\n\u001b[0;32m----> 1\u001b[0;31m \u001b[0mprint\u001b[0m\u001b[0;34m(\u001b[0m\u001b[0mnum1\u001b[0m\u001b[0;34m//\u001b[0m\u001b[0mnum2\u001b[0m\u001b[0;34m)\u001b[0m\u001b[0;34m\u001b[0m\u001b[0;34m\u001b[0m\u001b[0m\n\u001b[0m",
            "\u001b[0;31mTypeError\u001b[0m: can't take floor of complex number."
          ]
        }
      ]
    },
    {
      "cell_type": "code",
      "metadata": {
        "id": "WuM8TxEFJsMp",
        "colab_type": "code",
        "colab": {
          "base_uri": "https://localhost:8080/",
          "height": 172
        },
        "outputId": "dca801d8-52a5-4c6b-969b-8205a985bf54"
      },
      "source": [
        "print(num1%num2)"
      ],
      "execution_count": null,
      "outputs": [
        {
          "output_type": "error",
          "ename": "TypeError",
          "evalue": "ignored",
          "traceback": [
            "\u001b[0;31m---------------------------------------------------------------------------\u001b[0m",
            "\u001b[0;31mTypeError\u001b[0m                                 Traceback (most recent call last)",
            "\u001b[0;32m<ipython-input-21-84c1f6caa2d3>\u001b[0m in \u001b[0;36m<module>\u001b[0;34m()\u001b[0m\n\u001b[0;32m----> 1\u001b[0;31m \u001b[0mprint\u001b[0m\u001b[0;34m(\u001b[0m\u001b[0mnum1\u001b[0m\u001b[0;34m%\u001b[0m\u001b[0mnum2\u001b[0m\u001b[0;34m)\u001b[0m\u001b[0;34m\u001b[0m\u001b[0;34m\u001b[0m\u001b[0m\n\u001b[0m",
            "\u001b[0;31mTypeError\u001b[0m: can't mod complex numbers."
          ]
        }
      ]
    },
    {
      "cell_type": "markdown",
      "metadata": {
        "id": "8B1ZAKVXJXQA",
        "colab_type": "text"
      },
      "source": [
        "## Python doesn't allow floor and mod of complex number\n",
        "It allows ( addition, substraction, multiplication, division)"
      ]
    },
    {
      "cell_type": "code",
      "metadata": {
        "id": "w_kND40pKCh_",
        "colab_type": "code",
        "colab": {}
      },
      "source": [
        ""
      ],
      "execution_count": null,
      "outputs": []
    },
    {
      "cell_type": "markdown",
      "metadata": {
        "id": "4ZWQTRPbKD9v",
        "colab_type": "text"
      },
      "source": [
        "# Question 2\n",
        "## Research on range() functions and its parameters. Create a markdown cell and write in your ownwords (no copy-paste from google please) what you understand about it. Implement a smallprogram of your choice on the same"
      ]
    },
    {
      "cell_type": "code",
      "metadata": {
        "id": "T3E1qoozKFpp",
        "colab_type": "code",
        "colab": {
          "base_uri": "https://localhost:8080/",
          "height": 201
        },
        "outputId": "5e84b945-e26c-4795-8a82-26435760e649"
      },
      "source": [
        "c = range(0,10)\n",
        "for number in c:\n",
        "  print(number)"
      ],
      "execution_count": null,
      "outputs": [
        {
          "output_type": "stream",
          "text": [
            "0\n",
            "1\n",
            "2\n",
            "3\n",
            "4\n",
            "5\n",
            "6\n",
            "7\n",
            "8\n",
            "9\n"
          ],
          "name": "stdout"
        }
      ]
    },
    {
      "cell_type": "code",
      "metadata": {
        "id": "wteRYoG0KIRf",
        "colab_type": "code",
        "colab": {
          "base_uri": "https://localhost:8080/",
          "height": 109
        },
        "outputId": "26e6f09f-dbc2-4823-edc8-633f7db1bcca"
      },
      "source": [
        "c = range(0,10,2)\n",
        "for number in c:\n",
        "  print(number)"
      ],
      "execution_count": null,
      "outputs": [
        {
          "output_type": "stream",
          "text": [
            "0\n",
            "2\n",
            "4\n",
            "6\n",
            "8\n"
          ],
          "name": "stdout"
        }
      ]
    },
    {
      "cell_type": "code",
      "metadata": {
        "id": "xBtZ6EEGLtiW",
        "colab_type": "code",
        "colab": {}
      },
      "source": [
        ""
      ],
      "execution_count": null,
      "outputs": []
    },
    {
      "cell_type": "code",
      "metadata": {
        "id": "06VbrsvQKiU6",
        "colab_type": "code",
        "colab": {
          "base_uri": "https://localhost:8080/",
          "height": 109
        },
        "outputId": "bba659b0-d99d-4ea1-a015-3ecca29327db"
      },
      "source": [
        "c = range(5)\n",
        "for number in c:\n",
        "  print(number)"
      ],
      "execution_count": null,
      "outputs": [
        {
          "output_type": "stream",
          "text": [
            "0\n",
            "1\n",
            "2\n",
            "3\n",
            "4\n"
          ],
          "name": "stdout"
        }
      ]
    },
    {
      "cell_type": "markdown",
      "metadata": {
        "id": "GGQFb17gKs2B",
        "colab_type": "text"
      },
      "source": [
        "####<i> based on above code I noticed that the range fucntion can take (1,2,3) paramerters. If 1 parameter is provided : range will start from 0 till the n-1, if 2 paramerters provided(start,stop) the range will start at start number and goes till (stop-1) number, if 3 parameters(start,stop,steps) are provided it will go from start to till the stop-1 in the steps of step provides"
      ]
    },
    {
      "cell_type": "markdown",
      "metadata": {
        "id": "Ss71Oz2XMsKB",
        "colab_type": "text"
      },
      "source": [
        "# Question 3\n",
        "## Consider two numbers. Perform their subtraction and if the result of subtraction is greater than25, print their multiplication result else print their division result."
      ]
    },
    {
      "cell_type": "code",
      "metadata": {
        "id": "xiemiqMrLwUQ",
        "colab_type": "code",
        "colab": {
          "base_uri": "https://localhost:8080/",
          "height": 90
        },
        "outputId": "b2ce2a36-95cd-4d63-97bb-4e2b94a1fef0"
      },
      "source": [
        "num1 = int(input(\"Enter first number \"))\n",
        "num2 = int(input(\"Enter second number \"))\n",
        "\n",
        "if num1-num2 > 25:\n",
        "  print(\"Substraction is more than 25, multiplying numbers\")\n",
        "  print(num1*num2)\n",
        "else:\n",
        "  print(\"Substraction is less than 25, dividing numbers\")\n",
        "  print(num1/num2) \n"
      ],
      "execution_count": null,
      "outputs": [
        {
          "output_type": "stream",
          "text": [
            "Enter first number 100\n",
            "Enter second number 80\n",
            "Substraction is less than 25, dividing numbers\n",
            "1.25\n"
          ],
          "name": "stdout"
        }
      ]
    },
    {
      "cell_type": "markdown",
      "metadata": {
        "id": "Id7FFEekMwY6",
        "colab_type": "text"
      },
      "source": [
        "# Question 4\n",
        "## Consider a list of 10 elements of integer values. If the number in the list is divisible by 2, print theresult as \"square of that number minus 2"
      ]
    },
    {
      "cell_type": "code",
      "metadata": {
        "id": "l6i48voIMQIC",
        "colab_type": "code",
        "colab": {
          "base_uri": "https://localhost:8080/",
          "height": 90
        },
        "outputId": "34cd07b4-2f5e-4a8e-efc8-ccadb5325422"
      },
      "source": [
        "numlist = [2,4,5,6]\n",
        "\n",
        "for number in numlist:\n",
        "  #print(number)\n",
        "  if number%2 == 0:\n",
        "    print(number*number-2)\n",
        "  else:\n",
        "    print(number, \"is not divisible\")"
      ],
      "execution_count": null,
      "outputs": [
        {
          "output_type": "stream",
          "text": [
            "2\n",
            "14\n",
            "5 is not divisible\n",
            "34\n"
          ],
          "name": "stdout"
        }
      ]
    },
    {
      "cell_type": "markdown",
      "metadata": {
        "id": "lpALSBXdNrhR",
        "colab_type": "text"
      },
      "source": [
        "# Question 5\n",
        "## Consider a list of 10 elements. Print all the elements in the list which are greater than 7 when thatnumber is divided 2"
      ]
    },
    {
      "cell_type": "code",
      "metadata": {
        "id": "h0gHzPHdNuQQ",
        "colab_type": "code",
        "colab": {
          "base_uri": "https://localhost:8080/",
          "height": 109
        },
        "outputId": "f6beb414-25f5-4e9a-9a0b-54c5523c8464"
      },
      "source": [
        "numlist = [10,4,21,14]\n",
        "for number in numlist:\n",
        "  q = int(number/2)\n",
        "  if q > 7:\n",
        "    print(number,\" is divided and more than 7\")"
      ],
      "execution_count": null,
      "outputs": [
        {
          "output_type": "stream",
          "text": [
            "5\n",
            "2\n",
            "21  is divided and more than 7\n",
            "10\n",
            "7\n"
          ],
          "name": "stdout"
        }
      ]
    },
    {
      "cell_type": "code",
      "metadata": {
        "id": "qrxGQlAzOJKm",
        "colab_type": "code",
        "colab": {}
      },
      "source": [
        ""
      ],
      "execution_count": null,
      "outputs": []
    }
  ]
}